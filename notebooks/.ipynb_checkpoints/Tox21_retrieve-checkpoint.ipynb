{
 "cells": [
  {
   "cell_type": "code",
   "execution_count": 2,
   "id": "a9f5d482-94d9-462e-aff5-f804f3115828",
   "metadata": {},
   "outputs": [
    {
     "name": "stderr",
     "output_type": "stream",
     "text": [
      "Downloading...\n",
      "100%|███████████████████████████████████████| 712k/712k [00:00<00:00, 1.51MiB/s]\n",
      "Loading...\n",
      "Done!\n",
      "Found local copy...\n",
      "Loading...\n",
      "Done!\n",
      "Found local copy...\n",
      "Loading...\n",
      "Done!\n",
      "Found local copy...\n",
      "Loading...\n",
      "Done!\n",
      "Found local copy...\n",
      "Loading...\n",
      "Done!\n",
      "Found local copy...\n",
      "Loading...\n",
      "Done!\n",
      "Found local copy...\n",
      "Loading...\n",
      "Done!\n",
      "Found local copy...\n",
      "Loading...\n",
      "Done!\n",
      "Found local copy...\n",
      "Loading...\n",
      "Done!\n",
      "Found local copy...\n",
      "Loading...\n",
      "Done!\n",
      "Found local copy...\n",
      "Loading...\n",
      "Done!\n",
      "Found local copy...\n",
      "Loading...\n",
      "Done!\n"
     ]
    }
   ],
   "source": [
    "from tdc.single_pred import Tox\n",
    "from tdc.utils import retrieve_label_name_list\n",
    "\n",
    "import pandas as pd\n",
    "\n",
    "tasks = retrieve_label_name_list(\"tox21\")\n",
    "dfs = []\n",
    "\n",
    "for task in tasks:\n",
    "    df = Tox(name=\"tox21\", label_name=task).get_data()\n",
    "    df = df.rename(columns={\"Y\": task})\n",
    "    dfs.append(df[[\"Drug\", task]])\n",
    "\n",
    "full_df = dfs[0]\n",
    "for df in dfs[1:]:\n",
    "    full_df = pd.merge(full_df, df, on=\"Drug\", how=\"outer\")\n",
    "\n",
    "full_df.rename(columns={\"Drug\": \"smiles\"}, inplace=True)\n",
    "full_df.to_csv(\"data/tox21_multitask.csv\", index=False)"
   ]
  },
  {
   "cell_type": "code",
   "execution_count": null,
   "id": "633526a2-4962-48db-b906-0506b9ba492e",
   "metadata": {},
   "outputs": [],
   "source": []
  }
 ],
 "metadata": {
  "kernelspec": {
   "display_name": "Python 3 (ipykernel)",
   "language": "python",
   "name": "python3"
  },
  "language_info": {
   "codemirror_mode": {
    "name": "ipython",
    "version": 3
   },
   "file_extension": ".py",
   "mimetype": "text/x-python",
   "name": "python",
   "nbconvert_exporter": "python",
   "pygments_lexer": "ipython3",
   "version": "3.10.13"
  }
 },
 "nbformat": 4,
 "nbformat_minor": 5
}
